{
 "cells": [
  {
   "cell_type": "code",
   "execution_count": 4,
   "metadata": {},
   "outputs": [
    {
     "name": "stdout",
     "output_type": "stream",
     "text": [
      "MD 0098 CONCERNING HEAVY SNOW FOR NORTHERN AR EASTERN OK AND SOUTHERN MO Mesoscale Discussion 0098 NWS Storm Prediction Center Norman OK 0609 PM CST Tue Jan 24 2023 Areas affected northern AR eastern OK and southern MO Concerning Heavy snow Valid 250009Z - 250615Z SUMMARY Heavy snowfall rates of 1\"/hr or greater are possible in the next few hours as bands of winter precipitation move northward through the region. DISCUSSION The ejection of a potent upper-level trough is underway in the southern Plains. Moisture return ahead of this system has yielded a general winter-weather threat, mostly due to heavy snow, mainly centered in eastern OK into north-central AR. As the the system continues to propagate eastward, northeastward translation and further development of the winter precipitation is expected. The main driver is isentropic ascent north of a relatively sharp warm front draped across portions of south-central LA and southern MS. The rain-snow line is currently located far behind the front extending from southwest to northeast through central AR. Due to the overall evolution thus far and short-term guidance, the location of the rain-snow line is not expected to change very much during the next few hours. Within this timeframe, localized maxima in low-level frontogenesis (within the broad moist advection regime associated with isentropic ascent) are expected to yield bouts of higher snowfall rates (e.g., 1-1.5\"/hr). The direct impacts to travel and roads may be tempered in areas that recently transitioned from rain to snow and were relatively warmer at the surface; however, reduced visibility is still possible, and quickly accumulating snow is likely in areas at slightly higher elevation. These bouts of locally higher snowfall rates are most likely just north of the rain-snow line across central and northern AR and will generally translate from west to east during the 00-03z timeframe. Later (03-06z), intermittent heavy snowfall rates will be possible to the northwest of the surface low as it propagates through the same general corridor. ..Flournoy/Moore.. 01/25/2023 Please see www.spc.noaa.gov for graphic product ATTN WFO PAH MEG LSX LZK SGF SHV TSA LAT LON 34379465 34589554 35269585 36169552 36649435 36919318 37079173 37059009 36359001 35699080 35359143 34989237 34579346 34379465 WW 28 TORNADO LA CW 242325Z - 250700Z URGENT - IMMEDIATE BROADCAST REQUESTED Tornado Watch Number 28 NWS Storm Prediction Center Norman OK 525 PM CST Tue Jan 24 2023 The NWS Storm Prediction Center has issued a * Tornado Watch for portions of Southern Louisiana Coastal Waters * Effective this Tuesday afternoon and Wednesday morning from 525 PM until 100 AM CST. * Primary threats include A few tornadoes likely with a couple intense tornadoes possible Scattered damaging wind gusts to 70 mph possible SUMMARY The potential for storms capable of producing tornadoes and damaging winds will continue to develop east-northeastward across southern Louisiana this evening as a moist and unstable air mass works its way inland/northward in the presence of very strong winds through a deep layer. The tornado watch area is approximately along and 70 statute miles north and south of a line from 40 miles west of Lafayette LA to 30 miles east southeast of New Orleans LA. For a complete depiction of the watch see the associated watch outline update (WOUS64 KWNS WOU8). PRECAUTIONARY/PREPAREDNESS ACTIONS REMEMBER A Tornado Watch means conditions are favorable for tornadoes and severe thunderstorms in and close to the watch area. Persons in these areas should be on the lookout for threatening weather conditions and listen for later statements and possible warnings. && OTHER WATCH INFORMATION CONTINUE WW 27 AVIATION Tornadoes and a few severe thunderstorms with hail surface and aloft to 1 inch. Extreme turbulence and surface wind gusts to 60 knots. A few cumulonimbi with maximum tops to 500. Mean storm motion vector 24040. Guyer SPC has issued an experimental Public Severe Weather Outlook Multimedia Briefing MP4 at 0857 UTC on 11/29/2022. This briefing may be out of date after 1357 UTC on 11/29/2022 and there may NOT be subsequent updates during the day. \n",
      "Let me try to explain it in simple terms.\n",
      "*********************** WARNING *********************** THIS PUBLIC BROADCAST IS FOR TEST PURPOSES ONLY AND IS NOT TO BE USED FOR PREDICTIVE OR PREPAREDNESS PURPOSES. QUESTIONS ABOUT THE WATCH OR WARNING PRODUCT SHOULD BE INSTRUCTED TO WFO PAH MEG LSX LZK SGF SHV TSA LAT LON 34379465 34589554 35269585 36169552 36649435 36919318 37079173 37059009 36359001 35699080 35359143 34989237 34579346 34379465 WW 28 TORNADO WATCH 28 NWS STORM PREDICTION CENTER NORMAN OK 505 PM CST TUE 01/24/2023 The NWS Storm Prediction Center has issued a * Tornado Watch for portions of Southern Louisiana Coastal Waters * Effective this Tuesday afternoon and Wednesday morning from 525 PM until 100 AM CST. * Primary threats include A few tornadoes likely with a couple intense tornadoes possible Scattered damaging wind gusts to 70 mph possible SUMMARY A few tornadoes with an intense tornado possible will be possible during the watch. Significant turbulence and surface wind gusts to 60 knots are also possible. The tornado watch area is approximately along and 70 statute miles north and south of a line from 40 miles west of Lafayette LA to 30 miles east southeast of New Orleans LA. For a complete depiction of the watch see the associated watch outline update (WOUS64 KWNS WOU8). PRECAUTIONARY/PREPAREDNESS ACTIONS REMEMBER A Tornado Watch means conditions are favorable for tornadoes and severe thunderstorms in and close to the watch area. Persons in these areas should be on the lookout for threatening weather conditions and listen for later statements and possible warnings. && OTHER WATCH INFORMATION WATCHES WATCH number 26A Widespread severe thunderstorms. Storm Prediction Center Norman OK 0430 PM CST Tue Jan 24 2023 The following areas are affected...West-central and south-central LA to eastern Tx...Northern LA...Western LA...Gulf coastal waters from Vermilion LA to the mouth of the Pearl River This is aMultimodel outlook including... radar... Models... High Resolution (HR) Models... GFS model... envelope and mesoscale models Warning Coordination Meteorologist Allen: Rapid intensification is possible this afternoon and evening into overnight. Numerous tornadoes are possible with some intense tornadoes possible. Near-surface winds will be in the 60-90 mph range. This event A is especially risky for walkers and runners. && OTHER WATCH INFORMATION CONTINUE WW 27 AVIATION Solidified tornado. 031200Z - 031800Z URGENT - IMMEDIATE BROADCAST REQUESTED Tornado Watch Number 27 NWS Storm Prediction Center Norman OK 1030 PM CST Tue Jan 24 2023 The NWS Storm Prediction Center has issued a * Tornado Watch for portions of Western Louisiana * Effective this Wednesday morning and Wednesday afternoon from 1030 PM until 0600 PM CST. * Primary threats include A few tornadoes likely with a couple intense tornadoes possible Scattered damaging wind gusts to 70 mph possible SUMMARY A few tornadoes with an intense tornado possible will be possible during the watch. Significant turbulence and surface wind gusts to 60 knots are also possible. The tornado watch area is approximately along and 70 statute miles north and south of a line from 30 miles east southeast of New Orleans LA to 30 miles west southeast of Lafayette LA. For a complete depiction of the watch see the associated watch outline update (WOUS64 KWNS WOU8). PRECAUTIONARY/PREPAREDNESS ACTIONS REMEMBER A Tornado Watch means conditions are favorable for tornadoes and severe thunderstorms in and close to the watch area. Persons in these areas should be on the lookout for threatening weather conditions and listen for later statements and possible warnings. && OTHER WATCH INFORMATION WATCH LIST Updates... WFOS28 KWNS 262118Z - 262200Z CW 242300Z - 250700Z CW LAST WEDNESDAY NOTE: THIS PRODUCT IS THE LATEST WATCH PRODUCT FROM THE STORM PREDICTION CENTER. PLEASE CONSULT WOUS64 KWNS WOU8 FOR MORE INFORMATION. FOR A COMPLETE LIST OF WATCHES, PLEASE REFER TO WWW.SPC.NOAA.GOV. PRECAUTIONARY/PREPAREDNESS ACTIONS... REMEMBER... A Tornado Watch means conditions are favorable for tornadoes and severe thunderstorms in and close to the watch area. Persons in these areas should be on the lookout for threatening weather conditions and listen for later statements and possible warnings. && OTHER WATCH INFORMATION... THIS PRODUCT IS AVAILABLE IN ENGLISH ON WWW.SPC.NOAA.GOV. $$\n"
     ]
    }
   ],
   "source": [
    "!python formatme.py\n",
    "!python simplipy.py"
   ]
  }
 ],
 "metadata": {
  "kernelspec": {
   "display_name": "groupme",
   "language": "python",
   "name": "python3"
  },
  "language_info": {
   "codemirror_mode": {
    "name": "ipython",
    "version": 3
   },
   "file_extension": ".py",
   "mimetype": "text/x-python",
   "name": "python",
   "nbconvert_exporter": "python",
   "pygments_lexer": "ipython3",
   "version": "3.9.6"
  },
  "orig_nbformat": 4,
  "vscode": {
   "interpreter": {
    "hash": "28dd76f97a2595215b3511d9563b8125e93469ee739d17a6b25584482d270cb8"
   }
  }
 },
 "nbformat": 4,
 "nbformat_minor": 2
}
